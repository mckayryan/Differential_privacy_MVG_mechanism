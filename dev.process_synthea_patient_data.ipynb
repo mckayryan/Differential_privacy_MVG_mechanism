{
 "cells": [
  {
   "cell_type": "code",
   "execution_count": null,
   "metadata": {},
   "outputs": [],
   "source": [
    "import numpy\n",
    "import os\n",
    "import glob\n",
    "import random\n",
    "import pandas\n",
    "import math \n",
    "import pprint\n",
    "import datetime\n",
    "\n",
    "from framingham10yr.framingham10yr import framingham_10year_risk\n",
    "\n",
    "from calculate_framingham_risk_score import calculate_framingham_risk_score\n",
    "# My Utility Scripts\n",
    "# from printd import printd\n",
    "# from plots import plot_curves\n",
    "# from plots import plot_boxes"
   ]
  },
  {
   "cell_type": "code",
   "execution_count": null,
   "metadata": {},
   "outputs": [],
   "source": [
    "# Import config \n",
    "data = dict()\n",
    "paths = dict()\n",
    "\n",
    "datasets = ['patients','observations','medications','patients']\n",
    "\n",
    "data_location = 'synthea/output/csv/'"
   ]
  },
  {
   "cell_type": "code",
   "execution_count": null,
   "metadata": {},
   "outputs": [],
   "source": [
    "# datasets = ['patients']\n",
    "\n",
    "# Import csv data\n",
    "for d in datasets:\n",
    "    paths[d] = data_location + d + '.csv'\n",
    "    data[d] = pandas.read_csv(paths[d]).rename(str.lower, axis='columns')\n",
    "    print('\\nDatset ' + d)\n",
    "    print('\\nColumns')\n",
    "    print(data[d].columns.values)\n",
    "\n",
    "features = [\n",
    "    'Systolic Blood Pressure',\n",
    "    'Diastolic Blood Pressure',\n",
    "    'Tobacco smoking status NHIS',\n",
    "    'Body Mass Index',\n",
    "    'Glucose',\n",
    "    'Triglycerides',\n",
    "    'High Density Lipoprotein Cholesterol',\n",
    "    'Total Cholesterol',\n",
    "    'Low Density Lipoprotein Cholesterol'\n",
    "]\n",
    "\n"
   ]
  },
  {
   "cell_type": "code",
   "execution_count": null,
   "metadata": {},
   "outputs": [],
   "source": [
    "# Data Cleaning OBSERVATIONS data\n",
    "data['observations']['description'].dropna(inplace=True)\n",
    "\n",
    "new_feature = data['observations']['description'].str.split(\"(\\-|\\[.*\\])\", n=1, expand=True)\n",
    "\n",
    "data['observations'] = data['observations'].assign(feature=new_feature[0].str.strip())\n",
    "\n",
    "data['obs features'] = \\\n",
    "    data['observations'].loc[data['observations']['feature'].isin(features), \n",
    "                             ['date','patient','encounter','feature','value']]\n",
    "\n",
    "# Process numerical features\n",
    "data['obs floats'] = data['obs features'][data['obs features']['value']\n",
    "                                          .str.contains(r'^[\\d\\.]+$')]\n",
    "\n",
    "data['obs floats'] = data['obs floats'].assign(value=data['obs floats']['value']\n",
    "                                                     .astype(float))"
   ]
  },
  {
   "cell_type": "code",
   "execution_count": null,
   "metadata": {},
   "outputs": [],
   "source": [
    "# Process categorical features\n",
    "# Gather examples of smokers\n",
    "data['smokers'] = data['obs features'].loc[data['obs features']['feature']\n",
    "                                           .str.contains('Tobacco smoking status NHIS'),\n",
    "                                           ['encounter','patient','value']]\n",
    "\n",
    "data['smokers'] = (data['smokers']\n",
    "                   .replace({'Former smoker':True, \n",
    "                             'Never smoker':False, \n",
    "                             'Current every day smoker':True})\n",
    "                   .rename({'value':'smoker'}, axis='columns'))\n",
    "\n",
    "# Data Cleaning MEDICATIONS data\n",
    "# Gather examples of medication for 'Hypertension' or high blood pressure\n",
    "data['medications'].dropna(inplace=True)\n",
    "data['hypertension'] = data['medications'].loc[data['medications']['reasondescription']\n",
    "                                               .str.contains('Hypertension'),\n",
    "                                               ['start','stop','patient']]\n",
    "\n",
    "data['hypertension'] = data['hypertension'].assign(blood_pressure_med_treatment =True)"
   ]
  },
  {
   "cell_type": "code",
   "execution_count": null,
   "metadata": {},
   "outputs": [],
   "source": [
    "# Process PATIENTS data\n",
    "data['patients'] =  data['patients'][['id','birthdate','gender']].rename({'id':'patient','gender':'sex'}, axis='columns')"
   ]
  },
  {
   "cell_type": "code",
   "execution_count": null,
   "metadata": {},
   "outputs": [],
   "source": [
    "# Transpose such that features are columns with 'value as their values\n",
    "data['features'] = (data['obs floats']\n",
    "                    .pivot_table(index=['date','encounter','patient'], \n",
    "                                 columns='feature', values='value')\n",
    "                    .reset_index()\n",
    "                    .dropna()\n",
    "                    .copy())"
   ]
  },
  {
   "cell_type": "code",
   "execution_count": null,
   "metadata": {},
   "outputs": [],
   "source": [
    "# Combine patient and observation data\n",
    "data['features'] = pandas.merge(data['features'], data['patients'],\n",
    "                        how='left', on='patient')"
   ]
  },
  {
   "cell_type": "code",
   "execution_count": null,
   "metadata": {},
   "outputs": [],
   "source": [
    "# Calculate age at time of observation\n",
    "data['features'] = data['features'].assign(age=(\n",
    "    pandas.to_datetime(data['features'].date) - pandas.to_datetime(data['features'].birthdate))\n",
    "    .dt.days / 365.25)"
   ]
  },
  {
   "cell_type": "code",
   "execution_count": null,
   "metadata": {},
   "outputs": [],
   "source": [
    "# Join on smoker status\n",
    "merged = pandas.merge(data['features'], data['smokers'],\n",
    "                      how='left', on=['encounter','patient']).copy()"
   ]
  },
  {
   "cell_type": "code",
   "execution_count": null,
   "metadata": {},
   "outputs": [],
   "source": [
    "# Join on hypertention medication status\n",
    "merged = pandas.merge(merged, data['hypertension'],\n",
    "                      how='left', on='patient')\n",
    "\n",
    "data['features'] = merged[\n",
    "    (merged['start'].isnull() |\n",
    "        ((merged['start'] <= merged['date']) & \n",
    "        (merged['stop'] >= merged['date']))\n",
    "    )]\n",
    "\n",
    "data['features'] = (data['features']\n",
    "                    .assign(blood_pressure_med_treatment=data['features']['blood_pressure_med_treatment']\n",
    "                                                         .fillna(False)))"
   ]
  },
  {
   "cell_type": "code",
   "execution_count": null,
   "metadata": {},
   "outputs": [],
   "source": [
    "# Clean feature names \n",
    "new_feature_names = {\n",
    "    'Body Mass Index':'bmi',\n",
    "    'Total Cholesterol':'total_cholesterol',\n",
    "    'High Density Lipoprotein Cholesterol':'hdl_cholesterol',\n",
    "    'Low Density Lipoprotein Cholesterol':'ldl_cholesterol',\n",
    "    'Systolic Blood Pressure':'systolic_blood_pressure',\n",
    "    'Diastolic Blood Pressure':'diastolic_blood_pressure'    \n",
    "}\n",
    "\n",
    "\n",
    "data['features'] = data['features'].rename(new_feature_names, axis='columns').rename(str.lower, axis='columns')\n",
    "\n",
    "new_key = [\n",
    "    'date',\n",
    "    'encounter',\n",
    "    'patient',    \n",
    "]\n",
    "\n",
    "new_num_features = [\n",
    "    'bmi',\n",
    "    'diastolic_blood_pressure',\n",
    "    'systolic_blood_pressure',\n",
    "    'glucose',\n",
    "    'hdl_cholesterol',\n",
    "    'ldl_cholesterol',\n",
    "    'total_cholesterol',\n",
    "    'triglycerides',\n",
    "    'age',\n",
    "    'framingham'\n",
    "]\n",
    "\n",
    "new_cat_features = [\n",
    "    'sex',\n",
    "    'smoker',\n",
    "    'blood_pressure_med_treatment'\n",
    "]\n"
   ]
  },
  {
   "cell_type": "code",
   "execution_count": null,
   "metadata": {},
   "outputs": [],
   "source": [
    "# Framingham score\n",
    "data['features'] = calculate_framingham_risk_score(data['features'],\n",
    "                                                   'framingham')\n",
    "\n",
    "data['features'][new_key+new_cat_features+new_num_features].columns.values"
   ]
  },
  {
   "cell_type": "code",
   "execution_count": null,
   "metadata": {},
   "outputs": [],
   "source": [
    "# Randomly sample from key 'patients' to create unique entry for each patient\n",
    "data['unique_features'] = sample_from_key_to_unique(data=data['features'], key='patient')"
   ]
  },
  {
   "cell_type": "code",
   "execution_count": null,
   "metadata": {},
   "outputs": [],
   "source": [
    "print('New features')\n",
    "print(data['features'][new_key+new_cat_features+new_num_features].columns.values)\n",
    "# Can save at this point\n",
    "import datetime\n",
    "\n",
    "target_dir = 'data/'\n",
    "target_file_name = 'california_' + str(len(data['features'])) + '_' + datetime.date.today().strftime(\"%Y%m%d\")\n",
    "print(target_dir + target_file_name)\n",
    "\n",
    "data['unique_features'].to_pickle(target_dir + target_file_name)"
   ]
  },
  {
   "cell_type": "code",
   "execution_count": null,
   "metadata": {},
   "outputs": [],
   "source": [
    "import process_synthea_patient_data\n",
    "from process_synthea_patient_data import process_synthea_patient_data\n",
    "\n",
    "data_location = 'synthea/output/csv/'\n",
    "target_dir = 'data/'\n",
    "target_file_name = 'california_50000_' + datetime.date.today().strftime(\"%Y%m%d\")\n",
    "\n",
    "process_synthea_patient_data(data_dir=data_location,\n",
    "                             data_save_dir=target_dir,\n",
    "                             data_save_name=target_file_name).describe()"
   ]
  },
  {
   "cell_type": "code",
   "execution_count": null,
   "metadata": {},
   "outputs": [],
   "source": []
  },
  {
   "cell_type": "code",
   "execution_count": null,
   "metadata": {},
   "outputs": [],
   "source": []
  }
 ],
 "metadata": {
  "kernelspec": {
   "display_name": "Python 2",
   "language": "python",
   "name": "python2"
  },
  "language_info": {
   "codemirror_mode": {
    "name": "ipython",
    "version": 2
   },
   "file_extension": ".py",
   "mimetype": "text/x-python",
   "name": "python",
   "nbconvert_exporter": "python",
   "pygments_lexer": "ipython2",
   "version": "2.7.15"
  }
 },
 "nbformat": 4,
 "nbformat_minor": 2
}
