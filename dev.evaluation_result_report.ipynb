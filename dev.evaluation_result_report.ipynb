{
 "cells": [
  {
   "cell_type": "code",
   "execution_count": 1,
   "metadata": {},
   "outputs": [
    {
     "ename": "ImportError",
     "evalue": "cannot import name cbook",
     "output_type": "error",
     "traceback": [
      "\u001b[0;31m---------------------------------------------------------------------------\u001b[0m",
      "\u001b[0;31mImportError\u001b[0m                               Traceback (most recent call last)",
      "\u001b[0;32m<ipython-input-1-7f1ed01891f8>\u001b[0m in \u001b[0;36m<module>\u001b[0;34m()\u001b[0m\n\u001b[1;32m      3\u001b[0m \u001b[0;32mimport\u001b[0m \u001b[0mnumpy\u001b[0m\u001b[0;34m\u001b[0m\u001b[0m\n\u001b[1;32m      4\u001b[0m \u001b[0;34m\u001b[0m\u001b[0m\n\u001b[0;32m----> 5\u001b[0;31m \u001b[0;32mimport\u001b[0m \u001b[0mmatplotlib\u001b[0m\u001b[0;34m\u001b[0m\u001b[0m\n\u001b[0m\u001b[1;32m      6\u001b[0m \u001b[0;32mimport\u001b[0m \u001b[0mmatplotlib\u001b[0m\u001b[0;34m.\u001b[0m\u001b[0mpyplot\u001b[0m \u001b[0;32mas\u001b[0m \u001b[0mplot\u001b[0m\u001b[0;34m\u001b[0m\u001b[0m\n\u001b[1;32m      7\u001b[0m \u001b[0;34m\u001b[0m\u001b[0m\n",
      "\u001b[0;32m/home/ryan/packages/anaconda2/lib/python2.7/site-packages/matplotlib/__init__.py\u001b[0m in \u001b[0;36m<module>\u001b[0;34m()\u001b[0m\n\u001b[1;32m    124\u001b[0m \u001b[0;31m# cbook must import matplotlib only within function\u001b[0m\u001b[0;34m\u001b[0m\u001b[0;34m\u001b[0m\u001b[0m\n\u001b[1;32m    125\u001b[0m \u001b[0;31m# definitions, so it is safe to import from it here.\u001b[0m\u001b[0;34m\u001b[0m\u001b[0;34m\u001b[0m\u001b[0m\n\u001b[0;32m--> 126\u001b[0;31m \u001b[0;32mfrom\u001b[0m \u001b[0;34m.\u001b[0m \u001b[0;32mimport\u001b[0m \u001b[0mcbook\u001b[0m\u001b[0;34m\u001b[0m\u001b[0m\n\u001b[0m\u001b[1;32m    127\u001b[0m from matplotlib.cbook import (\n\u001b[1;32m    128\u001b[0m     _backports, mplDeprecation, dedent, get_label, sanitize_sequence)\n",
      "\u001b[0;31mImportError\u001b[0m: cannot import name cbook"
     ]
    }
   ],
   "source": [
    "import glob\n",
    "import pandas\n",
    "import numpy\n",
    "\n",
    "import matplotlib\n",
    "import matplotlib.pyplot as plot\n",
    "\n",
    "from plots import plot_boxes"
   ]
  },
  {
   "cell_type": "code",
   "execution_count": 7,
   "metadata": {},
   "outputs": [
    {
     "data": {
      "text/plain": [
       "u'0.24.1'"
      ]
     },
     "execution_count": 7,
     "metadata": {},
     "output_type": "execute_result"
    }
   ],
   "source": [
    "pandas.__version__"
   ]
  },
  {
   "cell_type": "code",
   "execution_count": 12,
   "metadata": {
    "scrolled": true
   },
   "outputs": [
    {
     "name": "stdout",
     "output_type": "stream",
     "text": [
      "Loading...\tresults/gaussian_covariance_100_20000_20190228\n",
      "Loading...\tresults/gaussian_covariance_100_350000_20190228\n",
      "Loading...\tresults/gaussian_itentity_20000_100_20190228\n",
      "Loading...\tresults/gaussian_itentity_350000_100_20190228\n",
      "Loading...\tresults/gaussian_covariance_100_100000_20190228\n",
      "Loading...\tresults/gaussian_itentity_100000_100_20190228\n"
     ]
    }
   ],
   "source": [
    "target_dir = 'results/'\n",
    "\n",
    "data_load = None\n",
    "for file_name in glob.glob(target_dir + '*'):\n",
    "    print('Loading...\\t' + file_name)\n",
    "    if data_load is None:\n",
    "        data_load = pandas.read_pickle(file_name)\n",
    "    else:\n",
    "        data_load = pandas.concat([data_load,\n",
    "                                   pandas.read_pickle(file_name)], \n",
    "                                  sort=False)"
   ]
  },
  {
   "cell_type": "code",
   "execution_count": 13,
   "metadata": {},
   "outputs": [
    {
     "name": "stdout",
     "output_type": "stream",
     "text": [
      "gaussian    600\n",
      "Name: mechanism, dtype: int64\n",
      "['mechanism' 'query' 'sample size' 'iteration' 'metric' 'result'\n",
      " 'mechanism runtime (s)' 'total runtime (s)']\n"
     ]
    },
    {
     "data": {
      "text/html": [
       "<div>\n",
       "<style scoped>\n",
       "    .dataframe tbody tr th:only-of-type {\n",
       "        vertical-align: middle;\n",
       "    }\n",
       "\n",
       "    .dataframe tbody tr th {\n",
       "        vertical-align: top;\n",
       "    }\n",
       "\n",
       "    .dataframe thead th {\n",
       "        text-align: right;\n",
       "    }\n",
       "</style>\n",
       "<table border=\"1\" class=\"dataframe\">\n",
       "  <thead>\n",
       "    <tr style=\"text-align: right;\">\n",
       "      <th></th>\n",
       "      <th>mechanism</th>\n",
       "      <th>query</th>\n",
       "      <th>sample size</th>\n",
       "      <th>iteration</th>\n",
       "      <th>metric</th>\n",
       "      <th>result</th>\n",
       "      <th>mechanism runtime (s)</th>\n",
       "      <th>total runtime (s)</th>\n",
       "    </tr>\n",
       "  </thead>\n",
       "  <tbody>\n",
       "  </tbody>\n",
       "</table>\n",
       "</div>"
      ],
      "text/plain": [
       "Empty DataFrame\n",
       "Columns: [mechanism, query, sample size, iteration, metric, result, mechanism runtime (s), total runtime (s)]\n",
       "Index: []"
      ]
     },
     "execution_count": 13,
     "metadata": {},
     "output_type": "execute_result"
    }
   ],
   "source": [
    "print(data_load['mechanism'].value_counts())\n",
    "print(data_load.columns.values)\n",
    "data_load[data_load.mechanism == 'baseline']\n"
   ]
  },
  {
   "cell_type": "markdown",
   "metadata": {},
   "source": [
    "# Compare Differentially Private (DP) Sample Covarince / SVD methods"
   ]
  },
  {
   "cell_type": "code",
   "execution_count": 15,
   "metadata": {},
   "outputs": [],
   "source": [
    "sample_cov_data = data_load[data_load.metric == 'principle component RSS']"
   ]
  },
  {
   "cell_type": "code",
   "execution_count": 21,
   "metadata": {},
   "outputs": [],
   "source": [
    "line_data = None\n",
    "\n",
    "# pandas.concat([\n",
    "#     sample_cov_data[ sample_cov_data['query'] == 'indentity'],\n",
    "#     sample_cov_data[ sample_cov_data['query'] == 'covariance']    \n",
    "# ], axis=1)\n",
    "plot_fields = ['mechanism', 'sample size', 'query', 'result', 'metric']\n",
    "\n",
    "result = (sample_cov_data[plot_fields]\n",
    "          .groupby(by=['mechanism', 'sample size', 'query'])\n",
    "          .median()\n",
    "          .unstack())\n",
    "\n",
    "\n",
    "# plot.plot('sample_size', )"
   ]
  },
  {
   "cell_type": "code",
   "execution_count": 22,
   "metadata": {},
   "outputs": [
    {
     "ename": "IndentationError",
     "evalue": "unexpected indent (<ipython-input-22-a89fd900e272>, line 4)",
     "output_type": "error",
     "traceback": [
      "\u001b[0;36m  File \u001b[0;32m\"<ipython-input-22-a89fd900e272>\"\u001b[0;36m, line \u001b[0;32m4\u001b[0m\n\u001b[0;31m    .groupby(by=['mechanism', 'sample size', 'query'])\u001b[0m\n\u001b[0m    ^\u001b[0m\n\u001b[0;31mIndentationError\u001b[0m\u001b[0;31m:\u001b[0m unexpected indent\n"
     ]
    }
   ],
   "source": [
    "fig, ax = plot.subplots(figsize=(15,7))\n",
    "\n",
    "sample_cov_data[plot_fields]\n",
    "          .groupby(by=['mechanism', 'sample size', 'query'])\n",
    "          .median()\n",
    "          .unstack()\n",
    "          .plot(ax=ax)\n",
    "        \n"
   ]
  },
  {
   "cell_type": "code",
   "execution_count": 23,
   "metadata": {},
   "outputs": [
    {
     "data": {
      "text/html": [
       "<div>\n",
       "<style scoped>\n",
       "    .dataframe tbody tr th:only-of-type {\n",
       "        vertical-align: middle;\n",
       "    }\n",
       "\n",
       "    .dataframe tbody tr th {\n",
       "        vertical-align: top;\n",
       "    }\n",
       "\n",
       "    .dataframe thead tr th {\n",
       "        text-align: left;\n",
       "    }\n",
       "\n",
       "    .dataframe thead tr:last-of-type th {\n",
       "        text-align: right;\n",
       "    }\n",
       "</style>\n",
       "<table border=\"1\" class=\"dataframe\">\n",
       "  <thead>\n",
       "    <tr>\n",
       "      <th></th>\n",
       "      <th></th>\n",
       "      <th></th>\n",
       "      <th colspan=\"2\" halign=\"left\">result</th>\n",
       "    </tr>\n",
       "    <tr>\n",
       "      <th></th>\n",
       "      <th></th>\n",
       "      <th></th>\n",
       "      <th>0.05</th>\n",
       "      <th>0.95</th>\n",
       "    </tr>\n",
       "    <tr>\n",
       "      <th>mechanism</th>\n",
       "      <th>sample size</th>\n",
       "      <th>query</th>\n",
       "      <th></th>\n",
       "      <th></th>\n",
       "    </tr>\n",
       "  </thead>\n",
       "  <tbody>\n",
       "    <tr>\n",
       "      <th rowspan=\"6\" valign=\"top\">gaussian</th>\n",
       "      <th rowspan=\"2\" valign=\"top\">20000</th>\n",
       "      <th>covariance</th>\n",
       "      <td>0.043536</td>\n",
       "      <td>0.114288</td>\n",
       "    </tr>\n",
       "    <tr>\n",
       "      <th>itentity</th>\n",
       "      <td>0.378029</td>\n",
       "      <td>0.411264</td>\n",
       "    </tr>\n",
       "    <tr>\n",
       "      <th rowspan=\"2\" valign=\"top\">100000</th>\n",
       "      <th>covariance</th>\n",
       "      <td>0.001533</td>\n",
       "      <td>0.007907</td>\n",
       "    </tr>\n",
       "    <tr>\n",
       "      <th>itentity</th>\n",
       "      <td>0.384562</td>\n",
       "      <td>0.409987</td>\n",
       "    </tr>\n",
       "    <tr>\n",
       "      <th rowspan=\"2\" valign=\"top\">350000</th>\n",
       "      <th>covariance</th>\n",
       "      <td>0.000115</td>\n",
       "      <td>0.000486</td>\n",
       "    </tr>\n",
       "    <tr>\n",
       "      <th>itentity</th>\n",
       "      <td>0.382758</td>\n",
       "      <td>0.411493</td>\n",
       "    </tr>\n",
       "  </tbody>\n",
       "</table>\n",
       "</div>"
      ],
      "text/plain": [
       "                                    result          \n",
       "                                      0.05      0.95\n",
       "mechanism sample size query                         \n",
       "gaussian  20000       covariance  0.043536  0.114288\n",
       "                      itentity    0.378029  0.411264\n",
       "          100000      covariance  0.001533  0.007907\n",
       "                      itentity    0.384562  0.409987\n",
       "          350000      covariance  0.000115  0.000486\n",
       "                      itentity    0.382758  0.411493"
      ]
     },
     "execution_count": 23,
     "metadata": {},
     "output_type": "execute_result"
    }
   ],
   "source": [
    "(sample_cov_data[plot_fields]\n",
    " .groupby(by=['mechanism', 'sample size', 'query'])\n",
    " .quantile([0.05,0.95])\n",
    " .unstack())"
   ]
  },
  {
   "cell_type": "code",
   "execution_count": null,
   "metadata": {},
   "outputs": [],
   "source": []
  },
  {
   "cell_type": "code",
   "execution_count": null,
   "metadata": {},
   "outputs": [],
   "source": [
    "# Collect data and labels\n",
    "boxplot_labels = [ sample_size for sample_size in sample_cov_data['sample size'].unique()]\n",
    "boxplot_data = [ sample_cov_data[sample_cov_data['sample size'] == sample_size].value_counts() ] \n",
    "                for sample_size in sample_cov_data['sample size'].unique()]"
   ]
  },
  {
   "cell_type": "code",
   "execution_count": null,
   "metadata": {},
   "outputs": [],
   "source": [
    "# Boxplot of experiment RMSE results \n",
    "boxplot_args = dict(notch=False,bootstrap=1000)\n",
    "\n",
    "plot, boxplot = plot_boxes(\n",
    "        title='Comparing Captured Variance of DP\\nSample Covariance Methods',\n",
    "        xlabel='Sample Size',\n",
    "        ylabel='Principal Component',\n",
    "        xplot_labels=e1_rmse_labels,\n",
    "        plot_data=e1_rmse_data,\n",
    "        xplot_label_args=dict(rotation=45, fontsize=8),\n",
    "        **boxplot_args)"
   ]
  }
 ],
 "metadata": {
  "kernelspec": {
   "display_name": "Python 2",
   "language": "python",
   "name": "python2"
  }
 },
 "nbformat": 4,
 "nbformat_minor": 2
}
